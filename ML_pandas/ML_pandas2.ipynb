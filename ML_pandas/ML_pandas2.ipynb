{
 "cells": [
  {
   "cell_type": "markdown",
   "metadata": {},
   "source": [
    "Starting with this code, loading in a CSV to a dataframe can be as simple as:"
   ]
  },
  {
   "cell_type": "code",
   "execution_count": 1,
   "metadata": {},
   "outputs": [
    {
     "name": "stdout",
     "output_type": "stream",
     "text": [
      "         Date     Value\n",
      "0  2016-07-31  807.9414\n",
      "1  2016-06-30  797.5535\n",
      "2  2016-05-31  809.5157\n",
      "3  2016-04-30  818.5681\n",
      "4  2016-03-31  800.9157\n"
     ]
    }
   ],
   "source": [
    "import pandas as pd\n",
    "import matplotlib.pyplot as plt\n",
    "\n",
    "df = pd.read_csv('ZILLOW-C252_MSPFCO.csv')\n",
    "print(df.head())"
   ]
  },
  {
   "cell_type": "markdown",
   "metadata": {},
   "source": [
    "Notice that we have no decent index again. We can fix that like we did before doing:"
   ]
  },
  {
   "cell_type": "code",
   "execution_count": 2,
   "metadata": {},
   "outputs": [],
   "source": [
    "df=df.set_index('Date')"
   ]
  },
  {
   "cell_type": "markdown",
   "metadata": {},
   "source": [
    "Now, let's say we want to send this back to a CSV, we can do:"
   ]
  },
  {
   "cell_type": "code",
   "execution_count": 3,
   "metadata": {},
   "outputs": [],
   "source": [
    "df.to_csv('newcsv2.csv')"
   ]
  },
  {
   "cell_type": "markdown",
   "metadata": {},
   "source": [
    "With pandas we can quickly make a plot of the data."
   ]
  },
  {
   "cell_type": "code",
   "execution_count": 4,
   "metadata": {},
   "outputs": [
    {
     "data": {
      "image/png": "[encoded data removed]",
      "text/plain": [
       "<matplotlib.figure.Figure at 0x10558b668>"
      ]
     },
     "metadata": {},
     "output_type": "display_data"
    }
   ],
   "source": [
    "df.plot()\n",
    "plt.show()"
   ]
  },
  {
   "cell_type": "markdown",
   "metadata": {},
   "source": [
    "We notice that it is ploting from most recent data to the oldest data. This is not how we would like such data to be presented. We can quickly flip the dataset using panda indexing.\n",
    "\n",
    "Lets start by looking at the 25 most recent data point"
   ]
  },
  {
   "cell_type": "code",
   "execution_count": 6,
   "metadata": {},
   "outputs": [
    {
     "name": "stdout",
     "output_type": "stream",
     "text": [
      "               Value\n",
      "Date                \n",
      "2016-07-31  807.9414\n",
      "2016-06-30  797.5535\n",
      "2016-05-31  809.5157\n",
      "2016-04-30  818.5681\n",
      "2016-03-31  800.9157\n",
      "2016-02-29  771.4921\n",
      "2016-01-31  747.5905\n",
      "2015-12-31  745.8960\n",
      "2015-11-30  786.6922\n",
      "2015-10-31  744.3815\n",
      "2015-09-30  719.1234\n",
      "2015-08-31  736.4989\n",
      "2015-07-31  736.1203\n",
      "2015-06-30  734.6554\n",
      "2015-05-31  761.6679\n",
      "2015-04-30  730.1186\n",
      "2015-03-31  762.7666\n",
      "2015-02-28  704.9493\n",
      "2014-12-31  654.5523\n",
      "2014-11-30  648.7748\n",
      "2014-10-31  673.1492\n",
      "2014-09-30  662.6267\n",
      "2014-08-31  630.2345\n",
      "2014-07-31  629.4594\n",
      "2014-06-30  651.3413\n"
     ]
    }
   ],
   "source": [
    "print(df[:25])"
   ]
  },
  {
   "cell_type": "markdown",
   "metadata": {},
   "source": [
    "We can notice that this is the value reported at the end of each month. Let's say we only care about the value reported at the end of every third month. We could use indexing like this:"
   ]
  },
  {
   "cell_type": "code",
   "execution_count": 7,
   "metadata": {},
   "outputs": [
    {
     "name": "stdout",
     "output_type": "stream",
     "text": [
      "               Value\n",
      "Date                \n",
      "2016-07-31  807.9414\n",
      "2016-04-30  818.5681\n",
      "2016-01-31  747.5905\n",
      "2015-10-31  744.3815\n",
      "2015-07-31  736.1203\n",
      "2015-04-30  730.1186\n",
      "2014-12-31  654.5523\n",
      "2014-09-30  662.6267\n",
      "2014-06-30  651.3413\n"
     ]
    }
   ],
   "source": [
    "print(df[:25:3])"
   ]
  },
  {
   "cell_type": "markdown",
   "metadata": {},
   "source": [
    "Alternatively, we could look at the data provided with year spacing."
   ]
  },
  {
   "cell_type": "code",
   "execution_count": 8,
   "metadata": {},
   "outputs": [
    {
     "name": "stdout",
     "output_type": "stream",
     "text": [
      "               Value\n",
      "Date                \n",
      "2016-07-31  807.9414\n",
      "2015-07-31  736.1203\n",
      "2014-06-30  651.3413\n",
      "2013-06-30  615.2628\n",
      "2012-06-30  541.8987\n",
      "2011-06-30  484.4020\n",
      "2010-06-30  543.6748\n",
      "2009-06-30  572.6300\n",
      "2008-06-30  590.9401\n",
      "2007-06-30  594.4301\n",
      "2006-06-30  652.5614\n",
      "2005-06-30  624.5646\n",
      "2004-06-30  549.3914\n",
      "2003-06-30  400.8241\n",
      "2002-06-30  360.6274\n",
      "2001-06-30  321.8108\n",
      "2000-06-30  270.7787\n",
      "1999-06-30  244.5099\n",
      "1998-06-30  217.9388\n",
      "1997-05-31  192.2811\n",
      "1996-05-31  174.5560\n"
     ]
    }
   ],
   "source": [
    "print(df[::12])"
   ]
  },
  {
   "cell_type": "markdown",
   "metadata": {},
   "source": [
    "Finally, we could use this indexing to flip our data and created a sensable plot."
   ]
  },
  {
   "cell_type": "code",
   "execution_count": 9,
   "metadata": {},
   "outputs": [
    {
     "data": {
      "image/png": "[encoded data removed]",
      "text/plain": [
       "<matplotlib.figure.Figure at 0x112e36978>"
      ]
     },
     "metadata": {},
     "output_type": "display_data"
    }
   ],
   "source": [
    "df[::-1].plot()\n",
    "plt.show()"
   ]
  },
  {
   "cell_type": "markdown",
   "metadata": {},
   "source": [
    "We can extract this data in a variety of ways. This is a Pandas tutorial, so if we can use Pandas, we shall. Let's check out the read_html from Pandas. It's not being called \"experimental\" anymore, but I would still label this as expirimental. The standard and quality of the other IO modules is very high and dependable. This read_html is not quite up to par, but I still say it's very impressive and useful code, and just plain cool. The way it works is you just simply feed in a URL, and Pandas will extract the dataframe worthy date from tables into a dataframe. This means, unlike the other typical methods you will usually use, read_html ends up reading into a list of dataframes. This isn't the only one that is different, but it is different. First, in order to use read_html, we need html5lib. Open up cmd.exe or your terminal and do: pip install html5lib. Now, we can make our first attempt by doing:"
   ]
  },
  {
   "cell_type": "code",
   "execution_count": 31,
   "metadata": {},
   "outputs": [
    {
     "name": "stdout",
     "output_type": "stream",
     "text": [
      "[         0              1               2               3                  4\n",
      "0   Sl no.  Abbreviations      State Name         Capital     Became a State\n",
      "1        1             AL         Alabama      Montgomery  December 14, 1819\n",
      "2        2             AK          Alaska          Juneau    January 3, 1959\n",
      "3        3             AZ         Arizona         Phoenix  February 14, 1912\n",
      "4        4             AR        Arkansas     Little Rock      June 15, 1836\n",
      "5        5             CA      California      Sacramento  September 9, 1850\n",
      "6        6             CO        Colorado          Denver     August 1, 1876\n",
      "7        7             CT     Connecticut        Hartford    January 9, 1788\n",
      "8        8             DE        Delaware           Dover   December 7, 1787\n",
      "9        9             FL         Florida     Tallahassee      March 3, 1845\n",
      "10      10             GA         Georgia         Atlanta    January 2, 1788\n",
      "11      11             HI          Hawaii        Honolulu    August 21, 1959\n",
      "12      12             ID           Idaho           Boise       July 3, 1890\n",
      "13      13             IL        Illinois     Springfield   December 3, 1818\n",
      "14      14             IN         Indiana    Indianapolis  December 11, 1816\n",
      "15      15             IA            Iowa      Des Moines  December 28, 1846\n",
      "16      16             KS          Kansas          Topeka   January 29, 1861\n",
      "17      17             KY        Kentucky       Frankfort       June 1, 1792\n",
      "18      18             LA       Louisiana     Baton Rouge     April 30, 1812\n",
      "19      19             ME           Maine         Augusta     March 15, 1820\n",
      "20      20             MD        Maryland       Annapolis     April 28, 1788\n",
      "21      21             MA   Massachusetts          Boston   February 6, 1788\n",
      "22      22             MI        Michigan         Lansing   January 26, 1837\n",
      "23      23             MN       Minnesota      Saint Paul       May 11, 1858\n",
      "24      24             MS     Mississippi         Jackson  December 10, 1817\n",
      "25      25             MO        Missouri  Jefferson City    August 10, 1821\n",
      "26      26             MT         Montana          Helena   November 8, 1889\n",
      "27      27             NE        Nebraska         Lincoln      March 1, 1867\n",
      "28      28             NV          Nevada     Carson City   October 31, 1864\n",
      "29      29             NH   New Hampshire         Concord      June 21, 1788\n",
      "30      30             NJ      New Jersey         Trenton  December 18, 1787\n",
      "31      31             NM      New Mexico        Santa Fe    January 6, 1912\n",
      "32      32             NY        New York          Albany      July 26, 1788\n",
      "33      33             NC  North Carolina         Raleigh  November 21, 1789\n",
      "34      34             ND    North Dakota        Bismarck   November 2, 1889\n",
      "35      35             OH            Ohio        Columbus      March 1, 1803\n",
      "36      36             OK        Oklahoma   Oklahoma City  November 16, 1907\n",
      "37      37             OR          Oregon           Salem  February 14, 1859\n",
      "38      38             PA    Pennsylvania      Harrisburg  December 12, 1787\n",
      "39      39             RI    Rhode Island      Providence       May 19, 1790\n",
      "40      40             SC  South Carolina        Columbia       May 23, 1788\n",
      "41      41             SD    South Dakota          Pierre   November 2, 1889\n",
      "42      42             TN       Tennessee       Nashville       June 1, 1796\n",
      "43      43             TX           Texas          Austin  December 29, 1845\n",
      "44      44             UT            Utah  Salt Lake City    January 4, 1896\n",
      "45      45             VT         Vermont      Montpelier      March 4, 1791\n",
      "46      46             VA        Virginia        Richmond      June 25, 1788\n",
      "47      47             WA      Washington         Olympia  November 11, 1889\n",
      "48      48             WV   West Virginia      Charleston      June 20, 1863\n",
      "49      49             WI       Wisconsin         Madison       May 29, 1848\n",
      "50      50             WY         Wyoming        Cheyenne      July 10, 1890,                                              0  \\\n",
      "0  vtePolitical divisions of the United States   \n",
      "1                                       States   \n",
      "2                             Federal district   \n",
      "3                                Insular areas   \n",
      "4                             Outlying islands   \n",
      "\n",
      "                                                   1  \n",
      "0                                                NaN  \n",
      "1  Alabama Alaska Arizona Arkansas California Col...  \n",
      "2                                   Washington, D.C.  \n",
      "3  American Samoa Guam Northern Mariana Islands P...  \n",
      "4  Baker Island Howland Island Jarvis Island John...  ]\n"
     ]
    }
   ],
   "source": [
    "fiddy_states = pd.read_html('https://simple.wikipedia.org/wiki/List_of_U.S._states')\n",
    "print(fiddy_states)"
   ]
  },
  {
   "cell_type": "markdown",
   "metadata": {},
   "source": [
    "That's more output than I am going to post here, but you get the idea. At least some of this data is what we want, and it looks like the first dataframe is off to a good start. So let's do:"
   ]
  },
  {
   "cell_type": "code",
   "execution_count": 32,
   "metadata": {},
   "outputs": [
    {
     "name": "stdout",
     "output_type": "stream",
     "text": [
      "         0              1               2               3                  4\n",
      "0   Sl no.  Abbreviations      State Name         Capital     Became a State\n",
      "1        1             AL         Alabama      Montgomery  December 14, 1819\n",
      "2        2             AK          Alaska          Juneau    January 3, 1959\n",
      "3        3             AZ         Arizona         Phoenix  February 14, 1912\n",
      "4        4             AR        Arkansas     Little Rock      June 15, 1836\n",
      "5        5             CA      California      Sacramento  September 9, 1850\n",
      "6        6             CO        Colorado          Denver     August 1, 1876\n",
      "7        7             CT     Connecticut        Hartford    January 9, 1788\n",
      "8        8             DE        Delaware           Dover   December 7, 1787\n",
      "9        9             FL         Florida     Tallahassee      March 3, 1845\n",
      "10      10             GA         Georgia         Atlanta    January 2, 1788\n",
      "11      11             HI          Hawaii        Honolulu    August 21, 1959\n",
      "12      12             ID           Idaho           Boise       July 3, 1890\n",
      "13      13             IL        Illinois     Springfield   December 3, 1818\n",
      "14      14             IN         Indiana    Indianapolis  December 11, 1816\n",
      "15      15             IA            Iowa      Des Moines  December 28, 1846\n",
      "16      16             KS          Kansas          Topeka   January 29, 1861\n",
      "17      17             KY        Kentucky       Frankfort       June 1, 1792\n",
      "18      18             LA       Louisiana     Baton Rouge     April 30, 1812\n",
      "19      19             ME           Maine         Augusta     March 15, 1820\n",
      "20      20             MD        Maryland       Annapolis     April 28, 1788\n",
      "21      21             MA   Massachusetts          Boston   February 6, 1788\n",
      "22      22             MI        Michigan         Lansing   January 26, 1837\n",
      "23      23             MN       Minnesota      Saint Paul       May 11, 1858\n",
      "24      24             MS     Mississippi         Jackson  December 10, 1817\n",
      "25      25             MO        Missouri  Jefferson City    August 10, 1821\n",
      "26      26             MT         Montana          Helena   November 8, 1889\n",
      "27      27             NE        Nebraska         Lincoln      March 1, 1867\n",
      "28      28             NV          Nevada     Carson City   October 31, 1864\n",
      "29      29             NH   New Hampshire         Concord      June 21, 1788\n",
      "30      30             NJ      New Jersey         Trenton  December 18, 1787\n",
      "31      31             NM      New Mexico        Santa Fe    January 6, 1912\n",
      "32      32             NY        New York          Albany      July 26, 1788\n",
      "33      33             NC  North Carolina         Raleigh  November 21, 1789\n",
      "34      34             ND    North Dakota        Bismarck   November 2, 1889\n",
      "35      35             OH            Ohio        Columbus      March 1, 1803\n",
      "36      36             OK        Oklahoma   Oklahoma City  November 16, 1907\n",
      "37      37             OR          Oregon           Salem  February 14, 1859\n",
      "38      38             PA    Pennsylvania      Harrisburg  December 12, 1787\n",
      "39      39             RI    Rhode Island      Providence       May 19, 1790\n",
      "40      40             SC  South Carolina        Columbia       May 23, 1788\n",
      "41      41             SD    South Dakota          Pierre   November 2, 1889\n",
      "42      42             TN       Tennessee       Nashville       June 1, 1796\n",
      "43      43             TX           Texas          Austin  December 29, 1845\n",
      "44      44             UT            Utah  Salt Lake City    January 4, 1896\n",
      "45      45             VT         Vermont      Montpelier      March 4, 1791\n",
      "46      46             VA        Virginia        Richmond      June 25, 1788\n",
      "47      47             WA      Washington         Olympia  November 11, 1889\n",
      "48      48             WV   West Virginia      Charleston      June 20, 1863\n",
      "49      49             WI       Wisconsin         Madison       May 29, 1848\n",
      "50      50             WY         Wyoming        Cheyenne      July 10, 1890\n"
     ]
    }
   ],
   "source": [
    "print(fiddy_states[0])"
   ]
  },
  {
   "cell_type": "markdown",
   "metadata": {},
   "source": [
    "Yep, that's looking good, we want column 0. So, we want to iterate through column 0 of fiddy_states[0]. Remember, right now, fiddy_states is a list of dataframes, and fiddy_states[0] is the first dataframe. To reference column 0 then, we do fiddy_states[0][0]. One is a list index, which returns a dataframe. The other is a column within the dataframe. Next, we notice the first item in column 0 is the word \"abbreviation,\" which we don't want. We can correct the header and indexing as so:"
   ]
  },
  {
   "cell_type": "code",
   "execution_count": 33,
   "metadata": {},
   "outputs": [
    {
     "name": "stdout",
     "output_type": "stream",
     "text": [
      "0      Abbreviations      State Name         Capital     Became a State\n",
      "Sl no.                                                                 \n",
      "1                 AL         Alabama      Montgomery  December 14, 1819\n",
      "2                 AK          Alaska          Juneau    January 3, 1959\n",
      "3                 AZ         Arizona         Phoenix  February 14, 1912\n",
      "4                 AR        Arkansas     Little Rock      June 15, 1836\n",
      "5                 CA      California      Sacramento  September 9, 1850\n",
      "6                 CO        Colorado          Denver     August 1, 1876\n",
      "7                 CT     Connecticut        Hartford    January 9, 1788\n",
      "8                 DE        Delaware           Dover   December 7, 1787\n",
      "9                 FL         Florida     Tallahassee      March 3, 1845\n",
      "10                GA         Georgia         Atlanta    January 2, 1788\n",
      "11                HI          Hawaii        Honolulu    August 21, 1959\n",
      "12                ID           Idaho           Boise       July 3, 1890\n",
      "13                IL        Illinois     Springfield   December 3, 1818\n",
      "14                IN         Indiana    Indianapolis  December 11, 1816\n",
      "15                IA            Iowa      Des Moines  December 28, 1846\n",
      "16                KS          Kansas          Topeka   January 29, 1861\n",
      "17                KY        Kentucky       Frankfort       June 1, 1792\n",
      "18                LA       Louisiana     Baton Rouge     April 30, 1812\n",
      "19                ME           Maine         Augusta     March 15, 1820\n",
      "20                MD        Maryland       Annapolis     April 28, 1788\n",
      "21                MA   Massachusetts          Boston   February 6, 1788\n",
      "22                MI        Michigan         Lansing   January 26, 1837\n",
      "23                MN       Minnesota      Saint Paul       May 11, 1858\n",
      "24                MS     Mississippi         Jackson  December 10, 1817\n",
      "25                MO        Missouri  Jefferson City    August 10, 1821\n",
      "26                MT         Montana          Helena   November 8, 1889\n",
      "27                NE        Nebraska         Lincoln      March 1, 1867\n",
      "28                NV          Nevada     Carson City   October 31, 1864\n",
      "29                NH   New Hampshire         Concord      June 21, 1788\n",
      "30                NJ      New Jersey         Trenton  December 18, 1787\n",
      "31                NM      New Mexico        Santa Fe    January 6, 1912\n",
      "32                NY        New York          Albany      July 26, 1788\n",
      "33                NC  North Carolina         Raleigh  November 21, 1789\n",
      "34                ND    North Dakota        Bismarck   November 2, 1889\n",
      "35                OH            Ohio        Columbus      March 1, 1803\n",
      "36                OK        Oklahoma   Oklahoma City  November 16, 1907\n",
      "37                OR          Oregon           Salem  February 14, 1859\n",
      "38                PA    Pennsylvania      Harrisburg  December 12, 1787\n",
      "39                RI    Rhode Island      Providence       May 19, 1790\n",
      "40                SC  South Carolina        Columbia       May 23, 1788\n",
      "41                SD    South Dakota          Pierre   November 2, 1889\n",
      "42                TN       Tennessee       Nashville       June 1, 1796\n",
      "43                TX           Texas          Austin  December 29, 1845\n",
      "44                UT            Utah  Salt Lake City    January 4, 1896\n",
      "45                VT         Vermont      Montpelier      March 4, 1791\n",
      "46                VA        Virginia        Richmond      June 25, 1788\n",
      "47                WA      Washington         Olympia  November 11, 1889\n",
      "48                WV   West Virginia      Charleston      June 20, 1863\n",
      "49                WI       Wisconsin         Madison       May 29, 1848\n",
      "50                WY         Wyoming        Cheyenne      July 10, 1890\n"
     ]
    }
   ],
   "source": [
    "##Use only the first Table\n",
    "fiddy_states=fiddy_states[0]\n",
    "\n",
    "###Correct the header\n",
    "fiddy_states.columns = fiddy_states.iloc[0]\n",
    "fiddy_states=fiddy_states.drop(fiddy_states.index[0])\n",
    "\n",
    "###Corrrect the indexing\n",
    "fiddy_states=fiddy_states.set_index('Sl no.')\n",
    "\n",
    "print(fiddy_states)"
   ]
  },
  {
   "cell_type": "markdown",
   "metadata": {},
   "source": [
    "Now we can issolate any part of this table. We are interested in the Abbrevations and can look at them using the header."
   ]
  },
  {
   "cell_type": "code",
   "execution_count": 35,
   "metadata": {},
   "outputs": [
    {
     "name": "stdout",
     "output_type": "stream",
     "text": [
      "Sl no.\n",
      "1     AL\n",
      "2     AK\n",
      "3     AZ\n",
      "4     AR\n",
      "5     CA\n",
      "6     CO\n",
      "7     CT\n",
      "8     DE\n",
      "9     FL\n",
      "10    GA\n",
      "11    HI\n",
      "12    ID\n",
      "13    IL\n",
      "14    IN\n",
      "15    IA\n",
      "16    KS\n",
      "17    KY\n",
      "18    LA\n",
      "19    ME\n",
      "20    MD\n",
      "21    MA\n",
      "22    MI\n",
      "23    MN\n",
      "24    MS\n",
      "25    MO\n",
      "26    MT\n",
      "27    NE\n",
      "28    NV\n",
      "29    NH\n",
      "30    NJ\n",
      "31    NM\n",
      "32    NY\n",
      "33    NC\n",
      "34    ND\n",
      "35    OH\n",
      "36    OK\n",
      "37    OR\n",
      "38    PA\n",
      "39    RI\n",
      "40    SC\n",
      "41    SD\n",
      "42    TN\n",
      "43    TX\n",
      "44    UT\n",
      "45    VT\n",
      "46    VA\n",
      "47    WA\n",
      "48    WV\n",
      "49    WI\n",
      "50    WY\n",
      "Name: Abbreviations, dtype: object\n"
     ]
    }
   ],
   "source": [
    "print(fiddy_states[\"Abbreviations\"])"
   ]
  },
  {
   "cell_type": "code",
   "execution_count": null,
   "metadata": {},
   "outputs": [],
   "source": []
  }
 ],
 "metadata": {
  "kernelspec": {
   "display_name": "Python 3",
   "language": "python",
   "name": "python3"
  },
  "language_info": {
   "codemirror_mode": {
    "name": "ipython",
    "version": 3
   },
   "file_extension": ".py",
   "mimetype": "text/x-python",
   "name": "python",
   "nbconvert_exporter": "python",
   "pygments_lexer": "ipython3",
   "version": "3.6.0"
  }
 },
 "nbformat": 4,
 "nbformat_minor": 2
}
