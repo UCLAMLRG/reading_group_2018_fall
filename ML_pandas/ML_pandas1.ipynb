{
 "cells": [
  {
   "cell_type": "markdown",
   "metadata": {},
   "source": [
    "Much of this is taken from https://pythonprogramming.net/data-analysis-python-pandas-tutorial-introduction/, where more in depth turorials are available. \n",
    "\n",
    "In this Data analysis with Python and Pandas tutorial, we're going to clear some of the Pandas basics. Data prior to being loaded into a Pandas Dataframe can take multiple forms, but generally it needs to be a dataset that can form to rows and columns. So maybe a dictionary like this:"
   ]
  },
  {
   "cell_type": "code",
   "execution_count": 17,
   "metadata": {},
   "outputs": [],
   "source": [
    "web_stats = {'Day':[1,2,3,4,5,6],\n",
    "             'Visitors':[43,34,65,56,29,76],\n",
    "             'Bounce Rate':[65,67,78,65,45,52]}"
   ]
  },
  {
   "cell_type": "markdown",
   "metadata": {},
   "source": [
    "We can turn this dictionary to a dataframe by doing the following:"
   ]
  },
  {
   "cell_type": "code",
   "execution_count": 31,
   "metadata": {},
   "outputs": [],
   "source": [
    "import pandas as pd\n",
    "import matplotlib.pyplot as plt\n",
    "\n",
    "web_stats = {'Day':[1,2,3,4,5,6],\n",
    "             'Visitors':[43,34,65,56,29,76],\n",
    "             'Bounce Rate':[65,67,78,65,45,52]}\n",
    "\n",
    "df = pd.DataFrame(web_stats)"
   ]
  },
  {
   "cell_type": "markdown",
   "metadata": {},
   "source": [
    "Now what can we do? As seen before, you can call for a quick initial snippit by doing:"
   ]
  },
  {
   "cell_type": "code",
   "execution_count": 11,
   "metadata": {},
   "outputs": [
    {
     "name": "stdout",
     "output_type": "stream",
     "text": [
      "   Bounce Rate  Day  Visitors\n",
      "0           65    1        43\n",
      "1           67    2        34\n",
      "2           78    3        65\n",
      "3           65    4        56\n",
      "4           45    5        29\n"
     ]
    }
   ],
   "source": [
    "print(df.head())"
   ]
  },
  {
   "cell_type": "markdown",
   "metadata": {},
   "source": [
    "You may also want the last few lines instead. For this, you can do something like:"
   ]
  },
  {
   "cell_type": "code",
   "execution_count": 12,
   "metadata": {},
   "outputs": [
    {
     "name": "stdout",
     "output_type": "stream",
     "text": [
      "   Bounce Rate  Day  Visitors\n",
      "1           67    2        34\n",
      "2           78    3        65\n",
      "3           65    4        56\n",
      "4           45    5        29\n",
      "5           52    6        76\n"
     ]
    }
   ],
   "source": [
    "print(df.tail())"
   ]
  },
  {
   "cell_type": "markdown",
   "metadata": {},
   "source": [
    "You can see here how there are these numbers on the left, 0,1,2,3,4,5 and so on, like line numbers. These numbers are actually your \"index.\" The index of a dataframe is what the data is related by, ordered by...etc. Generally, it is going to be the variable that connects all of the data. In this case, we never defined anything for this purpose, and it would be a challenge for Pandas to just somehow \"know\" what that variable was. Thus, when you do not define an index, Pandas will just make one for you like this. Looking at the data set right now, do you see a column that connects the others?\n",
    "\n",
    "The \"Day\" column fits that bill! Generally, if you have any dated data, the date will be the \"index\" as this is how all of the data points relate. There are many ways to identify the index, change the index, and so on. We'll cover a couple here. First, on any existing dataframe, we can set a new index like so:"
   ]
  },
  {
   "cell_type": "code",
   "execution_count": 22,
   "metadata": {},
   "outputs": [
    {
     "name": "stdout",
     "output_type": "stream",
     "text": [
      "     Bounce Rate  Visitors\n",
      "Day                       \n",
      "1             65        43\n",
      "2             67        34\n",
      "3             78        65\n",
      "4             65        56\n",
      "5             45        29\n",
      "6             52        76\n"
     ]
    }
   ],
   "source": [
    "df.set_index('Day', inplace=True)\n",
    "print(df)"
   ]
  },
  {
   "cell_type": "markdown",
   "metadata": {},
   "source": [
    "or alternatively:"
   ]
  },
  {
   "cell_type": "code",
   "execution_count": 32,
   "metadata": {},
   "outputs": [
    {
     "name": "stdout",
     "output_type": "stream",
     "text": [
      "     Bounce Rate  Visitors\n",
      "Day                       \n",
      "1             65        43\n",
      "2             67        34\n",
      "3             78        65\n",
      "4             65        56\n",
      "5             45        29\n",
      "6             52        76\n"
     ]
    }
   ],
   "source": [
    "df = pd.DataFrame(web_stats)\n",
    "\n",
    "df=df.set_index('Day')\n",
    "\n",
    "print(df)"
   ]
  },
  {
   "cell_type": "markdown",
   "metadata": {},
   "source": [
    "Then, at the bottom, you can plot. Remember earlier when we referenced a specific column? Maybe you noticed, but we can reference specific items in a dataframe like this:"
   ]
  },
  {
   "cell_type": "code",
   "execution_count": 24,
   "metadata": {},
   "outputs": [
    {
     "name": "stdout",
     "output_type": "stream",
     "text": [
      "Day\n",
      "1    43\n",
      "2    34\n",
      "3    65\n",
      "4    56\n",
      "5    29\n",
      "6    76\n",
      "Name: Visitors, dtype: int64\n"
     ]
    }
   ],
   "source": [
    "print(df['Visitors'])"
   ]
  },
  {
   "cell_type": "markdown",
   "metadata": {},
   "source": [
    "You can also reference parts of the dataframe like an object, so long as there aren't any spaces, so you can do something like this:"
   ]
  },
  {
   "cell_type": "code",
   "execution_count": 25,
   "metadata": {},
   "outputs": [
    {
     "name": "stdout",
     "output_type": "stream",
     "text": [
      "Day\n",
      "1    43\n",
      "2    34\n",
      "3    65\n",
      "4    56\n",
      "5    29\n",
      "6    76\n",
      "Name: Visitors, dtype: int64\n"
     ]
    }
   ],
   "source": [
    "print(df.Visitors)"
   ]
  },
  {
   "cell_type": "markdown",
   "metadata": {},
   "source": [
    "So we can plot a single column like this:"
   ]
  },
  {
   "cell_type": "code",
   "execution_count": 33,
   "metadata": {},
   "outputs": [
    {
     "data": {
      "image/png": "[encoded data removed]",
      "text/plain": [
       "<matplotlib.figure.Figure at 0x113412c18>"
      ]
     },
     "metadata": {},
     "output_type": "display_data"
    }
   ],
   "source": [
    "df['Visitors'].plot()\n",
    "plt.show()"
   ]
  },
  {
   "cell_type": "markdown",
   "metadata": {},
   "source": [
    "We can also plot the entire dataframe. So long as the data is normalized or on the same scale, this will work just fine. Here's an example:"
   ]
  },
  {
   "cell_type": "code",
   "execution_count": 34,
   "metadata": {},
   "outputs": [
    {
     "data": {
      "image/png": "[encoded data removed]",
      "text/plain": [
       "<matplotlib.figure.Figure at 0x1135e3278>"
      ]
     },
     "metadata": {},
     "output_type": "display_data"
    }
   ],
   "source": [
    "df.plot()\n",
    "plt.show()"
   ]
  },
  {
   "cell_type": "markdown",
   "metadata": {},
   "source": [
    "Notice how a legend is just automatically added? Another neat feature you might appreciate is that the legend also automatically moves out of the way of the actual plot lines. If you're new to Python and Matplotlib, this might easily not matter much to you, but this isn't a normal thing."
   ]
  },
  {
   "cell_type": "code",
   "execution_count": null,
   "metadata": {},
   "outputs": [],
   "source": []
  }
 ],
 "metadata": {
  "kernelspec": {
   "display_name": "Python 3",
   "language": "python",
   "name": "python3"
  },
  "language_info": {
   "codemirror_mode": {
    "name": "ipython",
    "version": 3
   },
   "file_extension": ".py",
   "mimetype": "text/x-python",
   "name": "python",
   "nbconvert_exporter": "python",
   "pygments_lexer": "ipython3",
   "version": "3.6.0"
  }
 },
 "nbformat": 4,
 "nbformat_minor": 2
}
